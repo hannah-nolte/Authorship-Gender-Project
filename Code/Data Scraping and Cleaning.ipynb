{
 "cells": [
  {
   "cell_type": "code",
   "execution_count": null,
   "metadata": {
    "id": "8H4hU34vsFgD"
   },
   "outputs": [],
   "source": [
    "import xml.etree.ElementTree as ET\n",
    "import pandas as pd\n",
    "import numpy as np\n",
    "import re\n",
    "import winsound\n",
    "final_dataset = pd.DataFrame()"
   ]
  },
  {
   "cell_type": "code",
   "execution_count": null,
   "metadata": {
    "id": "Ubt-fVE3sFgT",
    "scrolled": false
   },
   "outputs": [],
   "source": [
    "#column_names = [\"title\", \"domain\", \"abstract\", \"abstract_toc\", \"corr_author\", \"rec_day\", \"rec_mon\", \"rec_yr\", \"acc_day\", \"acc_mon\", \"acc_yr\", \"pub_day\", \"pub_mon\", \"pub_yr\"]\n",
    "paperinfo = pd.DataFrame()\n",
    "\n",
    "for i in range(0, 40000):  #keep changing intervals (size of 40000) until you hit 220829\n",
    "    try:\n",
    "        file = ET.parse(f'D:/PhD Courses/Semester 4/Data Driven Design/Project Data/Article{i}.xml')\n",
    "        root = file.getroot()\n",
    "        pi = []\n",
    "    \n",
    "        if root.findall(\".//subject/..[@subj-group-type='heading']\") is not None:\n",
    "            for heading in root.findall(\".//subject/..[@subj-group-type='heading']\"):\n",
    "                if(str(heading[0].text)) == \"Research Article\":\n",
    "                \n",
    "                    if root.findall(\"./front/article-meta/title-group/article-title\") is not None:\n",
    "                        for title in root.findall(\"./front/article-meta/title-group/article-title\"):\n",
    "                            pi.append(title.text)\n",
    "                            \n",
    "                    else:\n",
    "                        pi.append(str('no'))\n",
    "\n",
    "                    #pull abstract\n",
    "                    xmlstr = ET.tostring(root, encoding='utf8', method='xml')\n",
    "                    xmlstr = xmlstr.decode('utf-8')\n",
    "                    xmlstr = xmlstr.split()\n",
    "                    xmlstr = \" \".join(xmlstr)\n",
    "                    start_abs = xmlstr.find(\"<abstract>\") + len(\"<abstract>\")\n",
    "                    end_abs = xmlstr.find(\"</abstract>\")\n",
    "                    abstract = xmlstr[start_abs:end_abs]\n",
    "                    abstract = re.sub('<.*?>', ' ', abstract)\n",
    "                    pi.append(abstract)\n",
    "                    \n",
    "                    #pull discipline\n",
    "                    if len(root.findall(\".//subject/..[@subj-group-type='Discipline']\")) == 0:\n",
    "                        pi.append(np.NaN)\n",
    "                         \n",
    "                    else:\n",
    "                        for subject in root.findall(\".//subject/..[@subj-group-type='Discipline']\"):\n",
    "                            subj = subject[0].text\n",
    "                            subj = subj.split(\"/\")[0]\n",
    "                            pi.append(subj)\n",
    "                        \n",
    "\n",
    "                    #Pull received date\n",
    "                    xmlstr = re.sub(\" \", \"\", xmlstr)\n",
    "                    xmlstr = re.sub(\"\\n\", \"\", xmlstr)\n",
    "                    if (xmlstr.find(\"received\") != -1):\n",
    "                        start_rec = xmlstr.find('<datedate-type=\"received\">') + len('<datedate-type=\"received\">')\n",
    "                        end_rec = xmlstr.find(\"</date>\")\n",
    "                        rec_date = xmlstr[start_rec:end_rec]\n",
    "\n",
    "                        rec_date = re.sub('<.*?>', '-', rec_date)\n",
    "                        rec_date = re.sub('\\n', '', rec_date)\n",
    "                        rec_date = re.sub('--', '/', rec_date)\n",
    "                        rec_date = re.sub('-', '', rec_date)\n",
    "                        pi.append(rec_date)\n",
    "    \n",
    "                    else:\n",
    "                        pi.append(str(\"NA\"))\n",
    "\n",
    "                    #Pull accepted date\n",
    "                    if (xmlstr.find(\"accepted\") != -1):\n",
    "                        start_acc = xmlstr.find('<datedate-type=\"accepted\">') + len('<datedate-type=\"accepted\">')\n",
    "                        end_acc = xmlstr.find(\"</history>\")\n",
    "                        acc_date = xmlstr[start_acc:end_acc]\n",
    "\n",
    "                        acc_date = re.sub('<.*?>', '-', acc_date)\n",
    "                        acc_date = re.sub('\\n', '', acc_date)\n",
    "                        acc_date = re.sub('--', '/', acc_date)\n",
    "                        acc_date = re.sub('-', '', acc_date)\n",
    "                        acc_date = acc_date[:-1]\n",
    "                        pi.append(acc_date)\n",
    "    \n",
    "                    else:\n",
    "                        pi.append(str(\"NA\"))\n",
    "\n",
    "                    #pull epub date\n",
    "                    xmlstr = re.sub('</pub-date><pub-datepub-type=\"collection\">.*?</year>', '', xmlstr)\n",
    "                    if (xmlstr.find('pub-type=\"epub\"') != -1):\n",
    "                        start_epub = xmlstr.find('<pub-datepub-type=\"epub\">') + len('<pub-datepub-type=\"epub\">')\n",
    "                        end_epub = xmlstr.find(\"</pub-date><volume>\")\n",
    "                        epub_date = xmlstr[start_epub:end_epub]\n",
    "\n",
    "                        epub_date = re.sub('<.*?>', '-', epub_date)\n",
    "                        epub_date = re.sub('\\n', '', epub_date)\n",
    "                        epub_date = re.sub('--', '/', epub_date)\n",
    "                        epub_date = re.sub('-', '', epub_date)\n",
    "                        pi.append(epub_date)\n",
    "    \n",
    "                    else:\n",
    "                        pi.append(str(\"NA\"))\n",
    "                    \n",
    "                    #pull author names\n",
    "                    for author in root.findall(\".//name/..[@contrib-type='author']\"):\n",
    "                        name = author[0][1].text\n",
    "                        name = name.replace(\".\", \" \")\n",
    "                        name = re.sub(r\"\\b[a-zA-Z]\\b\", \"\", name)\n",
    "                        pi.append(name)\n",
    "         \n",
    "                    pi = np.array(pi)\n",
    "                    df = pd.DataFrame(pi.reshape(-1, len(pi)))\n",
    "                    paperinfo = paperinfo.append(df)\n",
    "                \n",
    "                else:\n",
    "                    i = i+1\n",
    "\n",
    "    except:\n",
    "        pass\n",
    "    \n",
    "winsound.Beep(480, 10000)"
   ]
  },
  {
   "cell_type": "code",
   "execution_count": null,
   "metadata": {},
   "outputs": [],
   "source": [
    "paperinfo"
   ]
  },
  {
   "cell_type": "code",
   "execution_count": null,
   "metadata": {
    "colab": {
     "base_uri": "https://localhost:8080/",
     "height": 31
    },
    "id": "fDIpDfpmsFnj",
    "outputId": "9030a134-b081-43c1-a219-159a1a85fac1"
   },
   "outputs": [],
   "source": [
    "final_dataset = final_dataset.append(paperinfo)"
   ]
  },
  {
   "cell_type": "code",
   "execution_count": null,
   "metadata": {},
   "outputs": [],
   "source": [
    "final_dataset"
   ]
  },
  {
   "cell_type": "code",
   "execution_count": null,
   "metadata": {
    "colab": {
     "base_uri": "https://localhost:8080/",
     "height": 303
    },
    "id": "dHaUvUSQsFnl",
    "outputId": "8651f229-3ae3-4af9-9305-d63853595fef"
   },
   "outputs": [],
   "source": [
    "final_dataset.to_csv(r'D:/PhD Courses/Semester 4/Data Driven Design/ArticleInfo.csv', index = False)"
   ]
  }
 ],
 "metadata": {
  "colab": {
   "name": "Scraping Clean.ipynb",
   "provenance": []
  },
  "kernelspec": {
   "display_name": "Python 3",
   "language": "python",
   "name": "python3"
  },
  "language_info": {
   "codemirror_mode": {
    "name": "ipython",
    "version": 3
   },
   "file_extension": ".py",
   "mimetype": "text/x-python",
   "name": "python",
   "nbconvert_exporter": "python",
   "pygments_lexer": "ipython3",
   "version": "3.7.6"
  }
 },
 "nbformat": 4,
 "nbformat_minor": 1
}

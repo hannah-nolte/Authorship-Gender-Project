{
 "cells": [
  {
   "cell_type": "code",
   "execution_count": 1,
   "id": "cooked-northeast",
   "metadata": {},
   "outputs": [
    {
     "data": {
      "text/html": [
       "<div>\n",
       "<style scoped>\n",
       "    .dataframe tbody tr th:only-of-type {\n",
       "        vertical-align: middle;\n",
       "    }\n",
       "\n",
       "    .dataframe tbody tr th {\n",
       "        vertical-align: top;\n",
       "    }\n",
       "\n",
       "    .dataframe thead th {\n",
       "        text-align: right;\n",
       "    }\n",
       "</style>\n",
       "<table border=\"1\" class=\"dataframe\">\n",
       "  <thead>\n",
       "    <tr style=\"text-align: right;\">\n",
       "      <th></th>\n",
       "      <th>Unnamed: 0</th>\n",
       "      <th>rep_score</th>\n",
       "      <th>Analytic</th>\n",
       "      <th>Clout</th>\n",
       "      <th>Authentic</th>\n",
       "      <th>Tone</th>\n",
       "      <th>WPS</th>\n",
       "      <th>Sixltr</th>\n",
       "      <th>Dic</th>\n",
       "      <th>function.</th>\n",
       "      <th>...</th>\n",
       "      <th>home</th>\n",
       "      <th>money</th>\n",
       "      <th>relig</th>\n",
       "      <th>death</th>\n",
       "      <th>informal</th>\n",
       "      <th>swear</th>\n",
       "      <th>netspeak</th>\n",
       "      <th>assent</th>\n",
       "      <th>nonflu</th>\n",
       "      <th>fIller</th>\n",
       "    </tr>\n",
       "  </thead>\n",
       "  <tbody>\n",
       "    <tr>\n",
       "      <th>0</th>\n",
       "      <td>0</td>\n",
       "      <td>0.25</td>\n",
       "      <td>96.30</td>\n",
       "      <td>34.06</td>\n",
       "      <td>26.12</td>\n",
       "      <td>20.15</td>\n",
       "      <td>20.62</td>\n",
       "      <td>39.18</td>\n",
       "      <td>66.79</td>\n",
       "      <td>32.46</td>\n",
       "      <td>...</td>\n",
       "      <td>0.0</td>\n",
       "      <td>0.00</td>\n",
       "      <td>0.0</td>\n",
       "      <td>0.37</td>\n",
       "      <td>0.00</td>\n",
       "      <td>0.0</td>\n",
       "      <td>0.00</td>\n",
       "      <td>0.0</td>\n",
       "      <td>0.00</td>\n",
       "      <td>0.0</td>\n",
       "    </tr>\n",
       "    <tr>\n",
       "      <th>1</th>\n",
       "      <td>1</td>\n",
       "      <td>0.00</td>\n",
       "      <td>99.00</td>\n",
       "      <td>63.49</td>\n",
       "      <td>7.40</td>\n",
       "      <td>94.13</td>\n",
       "      <td>25.38</td>\n",
       "      <td>31.53</td>\n",
       "      <td>65.02</td>\n",
       "      <td>37.44</td>\n",
       "      <td>...</td>\n",
       "      <td>0.0</td>\n",
       "      <td>0.49</td>\n",
       "      <td>0.0</td>\n",
       "      <td>0.00</td>\n",
       "      <td>0.49</td>\n",
       "      <td>0.0</td>\n",
       "      <td>0.49</td>\n",
       "      <td>0.0</td>\n",
       "      <td>0.00</td>\n",
       "      <td>0.0</td>\n",
       "    </tr>\n",
       "    <tr>\n",
       "      <th>2</th>\n",
       "      <td>2</td>\n",
       "      <td>0.25</td>\n",
       "      <td>96.95</td>\n",
       "      <td>71.80</td>\n",
       "      <td>19.62</td>\n",
       "      <td>18.67</td>\n",
       "      <td>17.33</td>\n",
       "      <td>43.27</td>\n",
       "      <td>63.46</td>\n",
       "      <td>36.06</td>\n",
       "      <td>...</td>\n",
       "      <td>0.0</td>\n",
       "      <td>0.48</td>\n",
       "      <td>0.0</td>\n",
       "      <td>0.00</td>\n",
       "      <td>0.00</td>\n",
       "      <td>0.0</td>\n",
       "      <td>0.00</td>\n",
       "      <td>0.0</td>\n",
       "      <td>0.00</td>\n",
       "      <td>0.0</td>\n",
       "    </tr>\n",
       "    <tr>\n",
       "      <th>3</th>\n",
       "      <td>3</td>\n",
       "      <td>0.33</td>\n",
       "      <td>99.00</td>\n",
       "      <td>69.05</td>\n",
       "      <td>2.75</td>\n",
       "      <td>63.50</td>\n",
       "      <td>25.12</td>\n",
       "      <td>35.32</td>\n",
       "      <td>65.67</td>\n",
       "      <td>42.79</td>\n",
       "      <td>...</td>\n",
       "      <td>0.0</td>\n",
       "      <td>0.00</td>\n",
       "      <td>0.0</td>\n",
       "      <td>0.00</td>\n",
       "      <td>0.00</td>\n",
       "      <td>0.0</td>\n",
       "      <td>0.00</td>\n",
       "      <td>0.0</td>\n",
       "      <td>0.00</td>\n",
       "      <td>0.0</td>\n",
       "    </tr>\n",
       "    <tr>\n",
       "      <th>4</th>\n",
       "      <td>4</td>\n",
       "      <td>0.00</td>\n",
       "      <td>99.00</td>\n",
       "      <td>47.44</td>\n",
       "      <td>30.21</td>\n",
       "      <td>43.21</td>\n",
       "      <td>19.56</td>\n",
       "      <td>33.23</td>\n",
       "      <td>71.25</td>\n",
       "      <td>35.46</td>\n",
       "      <td>...</td>\n",
       "      <td>0.0</td>\n",
       "      <td>0.64</td>\n",
       "      <td>0.0</td>\n",
       "      <td>0.00</td>\n",
       "      <td>0.32</td>\n",
       "      <td>0.0</td>\n",
       "      <td>0.00</td>\n",
       "      <td>0.0</td>\n",
       "      <td>0.32</td>\n",
       "      <td>0.0</td>\n",
       "    </tr>\n",
       "  </tbody>\n",
       "</table>\n",
       "<p>5 rows × 82 columns</p>\n",
       "</div>"
      ],
      "text/plain": [
       "   Unnamed: 0  rep_score  Analytic  Clout  Authentic   Tone    WPS  Sixltr  \\\n",
       "0           0       0.25     96.30  34.06      26.12  20.15  20.62   39.18   \n",
       "1           1       0.00     99.00  63.49       7.40  94.13  25.38   31.53   \n",
       "2           2       0.25     96.95  71.80      19.62  18.67  17.33   43.27   \n",
       "3           3       0.33     99.00  69.05       2.75  63.50  25.12   35.32   \n",
       "4           4       0.00     99.00  47.44      30.21  43.21  19.56   33.23   \n",
       "\n",
       "     Dic  function.  ...  home  money  relig  death  informal  swear  \\\n",
       "0  66.79      32.46  ...   0.0   0.00    0.0   0.37      0.00    0.0   \n",
       "1  65.02      37.44  ...   0.0   0.49    0.0   0.00      0.49    0.0   \n",
       "2  63.46      36.06  ...   0.0   0.48    0.0   0.00      0.00    0.0   \n",
       "3  65.67      42.79  ...   0.0   0.00    0.0   0.00      0.00    0.0   \n",
       "4  71.25      35.46  ...   0.0   0.64    0.0   0.00      0.32    0.0   \n",
       "\n",
       "   netspeak  assent  nonflu  fIller  \n",
       "0      0.00     0.0    0.00     0.0  \n",
       "1      0.49     0.0    0.00     0.0  \n",
       "2      0.00     0.0    0.00     0.0  \n",
       "3      0.00     0.0    0.00     0.0  \n",
       "4      0.00     0.0    0.32     0.0  \n",
       "\n",
       "[5 rows x 82 columns]"
      ]
     },
     "execution_count": 1,
     "metadata": {},
     "output_type": "execute_result"
    }
   ],
   "source": [
    "import pandas as pd\n",
    "df = pd.read_csv('liwc1.csv')\n",
    "df.head()"
   ]
  },
  {
   "cell_type": "code",
   "execution_count": 2,
   "id": "naval-necessity",
   "metadata": {},
   "outputs": [
    {
     "data": {
      "text/plain": [
       "0.02105858995192461"
      ]
     },
     "execution_count": 2,
     "metadata": {},
     "output_type": "execute_result"
    }
   ],
   "source": [
    "data = df.values\n",
    "X, y = data[:, 2:], data[:, 1]\n",
    "\n",
    "from sklearn.model_selection import train_test_split\n",
    "train_X, test_X, train_Y, test_Y=train_test_split(X, X, test_size=0.20, random_state=1)\n",
    "\n",
    "from sklearn import preprocessing\n",
    "# Standardising the variables\n",
    "train_X=preprocessing.scale(train_X)\n",
    "test_X=preprocessing.scale(test_X)\n",
    "\n",
    "import numpy as np\n",
    "#Running Lasso: \n",
    "from sklearn import linear_model \n",
    "lasso=linear_model.MultiTaskLassoCV(max_iter=2000,cv=10,normalize=False)\n",
    "lasso.fit(train_X,train_Y)\n",
    "lasso.alpha_"
   ]
  },
  {
   "cell_type": "code",
   "execution_count": 3,
   "id": "reduced-mason",
   "metadata": {},
   "outputs": [
    {
     "name": "stdout",
     "output_type": "stream",
     "text": [
      "The MSE on Train data is : 0.0020655899314963744\n",
      "The R^2 on Train data is: 0.9967934886516723\n"
     ]
    }
   ],
   "source": [
    "# Train error of Lasso: \n",
    "from sklearn.metrics import mean_squared_error\n",
    "mse_train = mean_squared_error(train_Y,lasso.predict(train_X))\n",
    "\n",
    "# R^2 of Train sample\n",
    "rsquared_train = lasso.score(train_X,train_Y)\n",
    "print(\"The MSE on Train data is :\", mse_train)\n",
    "print(\"The R^2 on Train data is:\", rsquared_train)"
   ]
  },
  {
   "cell_type": "code",
   "execution_count": 4,
   "id": "competent-finnish",
   "metadata": {},
   "outputs": [
    {
     "name": "stdout",
     "output_type": "stream",
     "text": [
      "The MSE on Test data is : 0.01121736735678384\n",
      "The R^2 on Test data is: 0.9814630085254545\n"
     ]
    }
   ],
   "source": [
    "# Test error of Lasso: \n",
    "from sklearn.metrics import mean_squared_error\n",
    "mse_test=mean_squared_error(test_Y,lasso.predict(test_X))\n",
    "\n",
    "# R^2 of Test sample\n",
    "rsquared_test=lasso.score(test_X,test_Y)\n",
    "print(\"The MSE on Test data is :\", mse_test)\n",
    "print(\"The R^2 on Test data is:\", rsquared_test)"
   ]
  },
  {
   "cell_type": "code",
   "execution_count": 5,
   "id": "champion-species",
   "metadata": {},
   "outputs": [
    {
     "name": "stdout",
     "output_type": "stream",
     "text": [
      "Lasso model (alpha=0.021) train r^2..: 0.9971208541891883\n",
      "Lasso model (alpha=0.021) test r^2..: 0.9827806893177229\n"
     ]
    }
   ],
   "source": [
    "from sklearn.linear_model import Lasso\n",
    "lasso=Lasso(alpha=0.021) # lasso has the probability of equalizing the beta values to 0\n",
    "lasso.fit(train_X, train_Y)\n",
    "lasso_train_r2=lasso.score(train_X, train_Y)\n",
    "lasso_test_r2=lasso.score(test_X, test_Y)\n",
    "print('Lasso model (alpha=0.021) train r^2..:', lasso_train_r2)\n",
    "print('Lasso model (alpha=0.021) test r^2..:', lasso_test_r2)"
   ]
  },
  {
   "cell_type": "code",
   "execution_count": 6,
   "id": "mediterranean-possible",
   "metadata": {},
   "outputs": [
    {
     "data": {
      "image/png": "[encoded data removed]",
      "text/plain": [
       "<Figure size 864x432 with 1 Axes>"
      ]
     },
     "metadata": {
      "needs_background": "light"
     },
     "output_type": "display_data"
    }
   ],
   "source": [
    "import matplotlib.pyplot as plt\n",
    "# visualize the values of the beta parameters\n",
    "plt.figure(figsize=(12,6))\n",
    "plt.plot(lasso.coef_, alpha=0.7, linestyle='none', marker='s', color = 'blue')\n",
    "plt.xlabel('Features', fontsize=16)\n",
    "plt.ylabel('Feature Parameters', fontsize=16)\n",
    "plt.show()"
   ]
  },
  {
   "cell_type": "code",
   "execution_count": 7,
   "id": "incorporate-syntax",
   "metadata": {},
   "outputs": [],
   "source": [
    "ypred = lasso.predict(test_X)"
   ]
  },
  {
   "cell_type": "code",
   "execution_count": 8,
   "id": "cooked-madness",
   "metadata": {},
   "outputs": [
    {
     "data": {
      "image/png": "[encoded data removed]",
      "text/plain": [
       "<Figure size 864x432 with 1 Axes>"
      ]
     },
     "metadata": {
      "needs_background": "light"
     },
     "output_type": "display_data"
    }
   ],
   "source": [
    "plt.figure(figsize=(12,6))\n",
    "plt.scatter(test_X, test_Y, s=8, color=\"blue\")\n",
    "plt.scatter(test_X, ypred,s=8, color=\"red\")\n",
    "plt.legend([\"original\",\"predicted\"])\n",
    "ax = plt.gca()\n",
    "leg = ax.get_legend()\n",
    "leg.legendHandles[0].set_color(\"blue\")\n",
    "leg.legendHandles[1].set_color(\"red\")\n",
    "plt.show()"
   ]
  },
  {
   "cell_type": "code",
   "execution_count": 9,
   "id": "little-elimination",
   "metadata": {},
   "outputs": [],
   "source": [
    "y_pred = lasso.predict(train_X)"
   ]
  },
  {
   "cell_type": "code",
   "execution_count": 11,
   "id": "searching-moses",
   "metadata": {},
   "outputs": [
    {
     "data": {
      "image/png": "[encoded data removed]",
      "text/plain": [
       "<Figure size 864x432 with 1 Axes>"
      ]
     },
     "metadata": {
      "needs_background": "light"
     },
     "output_type": "display_data"
    }
   ],
   "source": [
    "plt.figure(figsize=(12,6))\n",
    "plt.scatter(train_X, train_Y, s=8,color=\"blue\")\n",
    "plt.scatter(train_X, y_pred,s=8,color=\"red\")\n",
    "plt.legend([\"original\",\"predicted\"])\n",
    "ax = plt.gca()\n",
    "leg = ax.get_legend()\n",
    "leg.legendHandles[0].set_color(\"blue\")\n",
    "leg.legendHandles[1].set_color(\"red\")\n",
    "plt.show()"
   ]
  },
  {
   "cell_type": "code",
   "execution_count": 28,
   "id": "employed-easter",
   "metadata": {},
   "outputs": [],
   "source": [
    "df.drop(df.columns[[0,1]], axis = 1, inplace = True)"
   ]
  },
  {
   "cell_type": "code",
   "execution_count": 34,
   "id": "sonic-voice",
   "metadata": {},
   "outputs": [],
   "source": [
    "from statsmodels.stats.outliers_influence import variance_inflation_factor\n",
    "#calculate VIF for each explanatory variable\n",
    "vif = pd.DataFrame()\n",
    "vif['VIF'] = [variance_inflation_factor(df.values, i) for i in range(df.shape[1])]\n",
    "vif['variable'] = df.columns"
   ]
  },
  {
   "cell_type": "code",
   "execution_count": 39,
   "id": "headed-methodology",
   "metadata": {},
   "outputs": [
    {
     "data": {
      "text/html": [
       "<div>\n",
       "<style scoped>\n",
       "    .dataframe tbody tr th:only-of-type {\n",
       "        vertical-align: middle;\n",
       "    }\n",
       "\n",
       "    .dataframe tbody tr th {\n",
       "        vertical-align: top;\n",
       "    }\n",
       "\n",
       "    .dataframe thead th {\n",
       "        text-align: right;\n",
       "    }\n",
       "</style>\n",
       "<table border=\"1\" class=\"dataframe\">\n",
       "  <thead>\n",
       "    <tr style=\"text-align: right;\">\n",
       "      <th></th>\n",
       "      <th>VIF</th>\n",
       "      <th>variable</th>\n",
       "    </tr>\n",
       "  </thead>\n",
       "  <tbody>\n",
       "    <tr>\n",
       "      <th>count</th>\n",
       "      <td>78.000000</td>\n",
       "      <td>78</td>\n",
       "    </tr>\n",
       "    <tr>\n",
       "      <th>unique</th>\n",
       "      <td>NaN</td>\n",
       "      <td>78</td>\n",
       "    </tr>\n",
       "    <tr>\n",
       "      <th>top</th>\n",
       "      <td>NaN</td>\n",
       "      <td>compare</td>\n",
       "    </tr>\n",
       "    <tr>\n",
       "      <th>freq</th>\n",
       "      <td>NaN</td>\n",
       "      <td>1</td>\n",
       "    </tr>\n",
       "    <tr>\n",
       "      <th>mean</th>\n",
       "      <td>7907.730478</td>\n",
       "      <td>NaN</td>\n",
       "    </tr>\n",
       "    <tr>\n",
       "      <th>std</th>\n",
       "      <td>45606.125101</td>\n",
       "      <td>NaN</td>\n",
       "    </tr>\n",
       "    <tr>\n",
       "      <th>min</th>\n",
       "      <td>1.044977</td>\n",
       "      <td>NaN</td>\n",
       "    </tr>\n",
       "    <tr>\n",
       "      <th>25%</th>\n",
       "      <td>2.938488</td>\n",
       "      <td>NaN</td>\n",
       "    </tr>\n",
       "    <tr>\n",
       "      <th>50%</th>\n",
       "      <td>13.628855</td>\n",
       "      <td>NaN</td>\n",
       "    </tr>\n",
       "    <tr>\n",
       "      <th>75%</th>\n",
       "      <td>67.822913</td>\n",
       "      <td>NaN</td>\n",
       "    </tr>\n",
       "    <tr>\n",
       "      <th>max</th>\n",
       "      <td>363769.890048</td>\n",
       "      <td>NaN</td>\n",
       "    </tr>\n",
       "  </tbody>\n",
       "</table>\n",
       "</div>"
      ],
      "text/plain": [
       "                  VIF variable\n",
       "count       78.000000       78\n",
       "unique            NaN       78\n",
       "top               NaN  compare\n",
       "freq              NaN        1\n",
       "mean      7907.730478      NaN\n",
       "std      45606.125101      NaN\n",
       "min          1.044977      NaN\n",
       "25%          2.938488      NaN\n",
       "50%         13.628855      NaN\n",
       "75%         67.822913      NaN\n",
       "max     363769.890048      NaN"
      ]
     },
     "execution_count": 39,
     "metadata": {},
     "output_type": "execute_result"
    }
   ],
   "source": [
    "vif.describe(include='all')"
   ]
  },
  {
   "cell_type": "code",
   "execution_count": null,
   "id": "herbal-patent",
   "metadata": {},
   "outputs": [],
   "source": []
  }
 ],
 "metadata": {
  "kernelspec": {
   "display_name": "Python 3",
   "language": "python",
   "name": "python3"
  },
  "language_info": {
   "codemirror_mode": {
    "name": "ipython",
    "version": 3
   },
   "file_extension": ".py",
   "mimetype": "text/x-python",
   "name": "python",
   "nbconvert_exporter": "python",
   "pygments_lexer": "ipython3",
   "version": "3.8.8"
  }
 },
 "nbformat": 4,
 "nbformat_minor": 5
}
